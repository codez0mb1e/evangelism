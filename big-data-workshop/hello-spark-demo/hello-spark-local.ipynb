{
 "cells": [
  {
   "cell_type": "markdown",
   "metadata": {},
   "source": [
    "# Hello Spark (local) Demo"
   ]
  },
  {
   "cell_type": "markdown",
   "metadata": {},
   "source": [
    "Import dependencies:"
   ]
  },
  {
   "cell_type": "code",
   "execution_count": 1,
   "metadata": {},
   "outputs": [],
   "source": [
    "import operator \n",
    "import pyspark"
   ]
  },
  {
   "cell_type": "markdown",
   "metadata": {},
   "source": [
    "Init Spark session:"
   ]
  },
  {
   "cell_type": "code",
   "execution_count": 2,
   "metadata": {},
   "outputs": [
    {
     "data": {
      "text/html": [
       "\n",
       "            <div>\n",
       "                <p><b>SparkSession - hive</b></p>\n",
       "                \n",
       "        <div>\n",
       "            <p><b>SparkContext</b></p>\n",
       "\n",
       "            <p><a href=\"http://spark-u1804-vm.internal.cloudapp.net:4046\">Spark UI</a></p>\n",
       "\n",
       "            <dl>\n",
       "              <dt>Version</dt>\n",
       "                <dd><code>v2.4.4</code></dd>\n",
       "              <dt>Master</dt>\n",
       "                <dd><code>local[*]</code></dd>\n",
       "              <dt>AppName</dt>\n",
       "                <dd><code>pyspark-shell</code></dd>\n",
       "            </dl>\n",
       "        </div>\n",
       "        \n",
       "            </div>\n",
       "        "
      ],
      "text/plain": [
       "<pyspark.sql.session.SparkSession at 0x7fe7cbb30250>"
      ]
     },
     "execution_count": 2,
     "metadata": {},
     "output_type": "execute_result"
    }
   ],
   "source": [
    "def init_spark():\n",
    "  session = SparkSession.builder.appName(\"HelloSparkApp\").getOrCreate()\n",
    "  cntx = session.sparkContext\n",
    "\n",
    "  return session,cntx\n",
    "\n",
    "session,cntx = init_spark()\n",
    "spark"
   ]
  },
  {
   "cell_type": "markdown",
   "metadata": {},
   "source": [
    "## Let's start!"
   ]
  },
  {
   "cell_type": "code",
   "execution_count": 3,
   "metadata": {},
   "outputs": [
    {
     "name": "stdout",
     "output_type": "stream",
     "text": [
      "[0, 1, 4, 9, 16, 25, 36, 49, 64, 81, 100]\n"
     ]
    }
   ],
   "source": [
    "nums = cntx.parallelize(range(0, 11))\n",
    "\n",
    "print(nums.map(lambda x: x*x).collect())"
   ]
  },
  {
   "cell_type": "markdown",
   "metadata": {},
   "source": [
    "## Word count calculator"
   ]
  },
  {
   "cell_type": "markdown",
   "metadata": {},
   "source": [
    "Get a RDD containing lines from [AI-Workshop](./../AI-Workshop/):"
   ]
  },
  {
   "cell_type": "code",
   "execution_count": 4,
   "metadata": {},
   "outputs": [
    {
     "data": {
      "text/plain": [
       "['# AI Workshop',\n",
       " '',\n",
       " '',\n",
       " '## Machine Learning',\n",
       " 'В первой части интенсива разберемся с тем, что представляет собой дисциплина машинное обучение (_machine learning, ML_), в том числе разберем:',\n",
       " '* типовые задачи: обучение с учителем, обучение без учителя, обучение с подкреплением;',\n",
       " '* наиболее популярные классы алгоритмов: регрессия, классификация, кластеризация;',\n",
       " '* интуитивное понимание конкретных алгоритмов: от линейной регрессии до ансамблей деревьев и нейронных сетей.',\n",
       " '',\n",
       " 'Отдельно заострим свое внимание на кейсах успешного применения машинного обучения в различных сферах бизнеса и нашей жизни. В конце первой части проведем практикум по обучению модели машинной обучения на одной из облачных платформ. ']"
      ]
     },
     "execution_count": 4,
     "metadata": {},
     "output_type": "execute_result"
    }
   ],
   "source": [
    "lines = sc.textFile('../../AI-Workshop/README.md')\n",
    "lines.take(10)"
   ]
  },
  {
   "cell_type": "markdown",
   "metadata": {},
   "source": [
    "Get the number of partitions:"
   ]
  },
  {
   "cell_type": "code",
   "execution_count": 5,
   "metadata": {},
   "outputs": [
    {
     "name": "stdout",
     "output_type": "stream",
     "text": [
      "Number of partitions storing the dataset: 2\n"
     ]
    }
   ],
   "source": [
    "numPartitions = lines.getNumPartitions() \n",
    "print('Number of partitions storing the dataset: {}'.format(numPartitions))\n"
   ]
  },
  {
   "cell_type": "code",
   "execution_count": 6,
   "metadata": {},
   "outputs": [],
   "source": [
    "# Split each line into words and assign a frequency of 1 to each word\n",
    "words = lines.flatMap(lambda line: line.split(\" \"))\n",
    "\n",
    "# Filter stop words\n",
    "stop_words = ['', '*', '##', 'и', 'с', 'в','по']\n",
    "filtered_words = words.filter(lambda x: x.lower() not in stop_words)\n",
    "\n",
    "# Get word tuples\n",
    "word_tuples = filtered_words.map(lambda word: (word, 1))\n",
    "\n",
    "# Count the frequency for words\n",
    "counts = word_tuples.reduceByKey(operator.add) # equals .reduceByKey(lambda a, b: a + b)\n",
    "\n",
    "# Sort the counts in descending order based on the word frequency\n",
    "sorted_counts = counts.sortBy(lambda x: x[1], False)"
   ]
  },
  {
   "cell_type": "code",
   "execution_count": 7,
   "metadata": {},
   "outputs": [
    {
     "name": "stdout",
     "output_type": "stream",
     "text": [
      "обучение --> 4\n",
      "части --> 3\n",
      "AI --> 3\n",
      "Learning --> 3\n",
      "нейронных --> 3\n",
      "на --> 3\n",
      "первой --> 2\n",
      "интенсива --> 2\n",
      "learning, --> 2\n",
      "алгоритмов: --> 2\n",
      "проведем --> 2\n",
      "из --> 2\n",
      "облачных --> 2\n",
      "платформ. --> 2\n",
      "### --> 2\n",
      "1. --> 2\n",
      "3. --> 2\n",
      "Azure --> 2\n",
      "или --> 2\n",
      "том --> 2\n",
      "числе --> 2\n",
      "типовые --> 2\n",
      "успешного --> 2\n",
      "обучения --> 2\n",
      "конце --> 2\n",
      "практикум --> 2\n",
      "обучению --> 2\n",
      "Материалы: --> 2\n",
      "2. --> 2\n",
      "Microsoft --> 2\n",
      "[Azure --> 2\n",
      "4. --> 2\n",
      "# --> 1\n",
      "Machine --> 1\n",
      "дисциплина --> 1\n",
      "машинное --> 1\n",
      "(_machine --> 1\n",
      "учителем, --> 1\n",
      "без --> 1\n",
      "учителя, --> 1\n",
      "подкреплением; --> 1\n",
      "популярные --> 1\n",
      "регрессия, --> 1\n",
      "конкретных --> 1\n",
      "от --> 1\n",
      "линейной --> 1\n",
      "деревьев --> 1\n",
      "Отдельно --> 1\n",
      "заострим --> 1\n",
      "свое --> 1\n",
      "кейсах --> 1\n",
      "применения --> 1\n",
      "машинного --> 1\n",
      "различных --> 1\n",
      "бизнеса --> 1\n",
      "нашей --> 1\n",
      "жизни. --> 1\n",
      "одной --> 1\n",
      "Во --> 1\n",
      "второй --> 1\n",
      "остановимся --> 1\n",
      "нейросетевых --> 1\n",
      "(_deep --> 1\n",
      "DL_). --> 1\n",
      "причины --> 1\n",
      "сетей, --> 1\n",
      "применения; --> 1\n",
      "типы --> 1\n",
      "сетей: --> 1\n",
      "распространения, --> 1\n",
      "нейросети --> 1\n",
      "лекции --> 1\n",
      "сети, --> 1\n",
      "DL-фреймворк --> 1\n",
      "Современный --> 1\n",
      "веб-браузер; --> 1\n",
      "Account: --> 1\n",
      "Pass](https://www.microsoftazurepass.com/) --> 1\n",
      "2017 --> 1\n",
      "Science --> 1\n",
      "Tools). --> 1\n",
      "#### --> 1\n",
      "[Azure.com/AI](https://www.azure.com/ai) --> 1\n",
      "School](https://aischool.microsoft.com/learning-paths) --> 1\n",
      "Intelligence --> 1\n",
      "Algorithm --> 1\n",
      "Cheat --> 1\n",
      "Workshop --> 1\n",
      "разберемся --> 1\n",
      "тем, --> 1\n",
      "что --> 1\n",
      "представляет --> 1\n",
      "собой --> 1\n",
      "ML_), --> 1\n",
      "разберем: --> 1\n",
      "задачи: --> 1\n",
      "наиболее --> 1\n",
      "классы --> 1\n",
      "классификация, --> 1\n",
      "кластеризация; --> 1\n",
      "интуитивное --> 1\n",
      "понимание --> 1\n",
      "регрессии --> 1\n",
      "до --> 1\n",
      "ансамблей --> 1\n",
      "сетей. --> 1\n",
      "внимание --> 1\n",
      "сферах --> 1\n",
      "модели --> 1\n",
      "машинной --> 1\n",
      "[Презентация](http://0xcode.in/machine-learning-intro). --> 1\n",
      "Deep --> 1\n",
      "подробнее --> 1\n",
      "алгоритмах, --> 1\n",
      "глубоких --> 1\n",
      "нейросетях --> 1\n",
      "Рассмотрим: --> 1\n",
      "успеха --> 1\n",
      "задачи --> 1\n",
      "сферы --> 1\n",
      "их --> 1\n",
      "полносвязанные --> 1\n",
      "прямого --> 1\n",
      "сверочные, --> 1\n",
      "рекуррентные, --> 1\n",
      "состязательные --> 1\n",
      "автоэнкодеры. --> 1\n",
      "нейронной --> 1\n",
      "использую --> 1\n",
      "популярный --> 1\n",
      "одну --> 1\n",
      "[Демо](samples/); --> 1\n",
      "[Презентация](http://0xcode.in/deep-learning-intro). --> 1\n",
      "Requirements --> 1\n",
      "Account; --> 1\n",
      "бесплатно --> 1\n",
      "Free](https://azure.microsoft.com/ru-ru/free/) --> 1\n",
      "([другие --> 1\n",
      "способы](http://www.codeinstinct.pro/2016/10/cloud-for-free.html)); --> 1\n",
      "RStudio --> 1\n",
      "Visual --> 1\n",
      "Studio --> 1\n",
      "(c --> 1\n",
      "Data --> 1\n",
      "References --> 1\n",
      "[Microsoft --> 1\n",
      "[Cortana --> 1\n",
      "and --> 1\n",
      "ML --> 1\n",
      "Blog](https://blogs.technet.microsoft.com/machinelearning/) --> 1\n",
      "[Machine --> 1\n",
      "Sheet](https://docs.microsoft.com/en-us/azure/machine-learning/studio/algorithm-cheat-sheet) --> 1\n"
     ]
    }
   ],
   "source": [
    "#Get an iterator over the counts to print a word and its frequency\n",
    "for word,count in sorted_counts.toLocalIterator():\n",
    "    print('{} --> {}'.format(word, count))"
   ]
  },
  {
   "cell_type": "markdown",
   "metadata": {},
   "source": [
    "#### Store resut"
   ]
  },
  {
   "cell_type": "code",
   "execution_count": 8,
   "metadata": {},
   "outputs": [],
   "source": [
    "# import the pyspark sql Row class\n",
    "from pyspark.sql import Row \n",
    "\n",
    "# create a table from Rows\n",
    "word_counts_rows = sorted_counts.map(lambda p: Row(word=p[0], count=int(p[1])))\n",
    "word_counts_table = sqlContext.createDataFrame(word_counts_rows) \n",
    "\n",
    "# register a temp table for querying\n",
    "word_counts_table.registerTempTable(\"word_count\")"
   ]
  },
  {
   "cell_type": "markdown",
   "metadata": {},
   "source": [
    "Get data fron `word_counts_table`:"
   ]
  },
  {
   "cell_type": "code",
   "execution_count": 10,
   "metadata": {},
   "outputs": [
    {
     "data": {
      "text/html": [
       "<div>\n",
       "<style scoped>\n",
       "    .dataframe tbody tr th:only-of-type {\n",
       "        vertical-align: middle;\n",
       "    }\n",
       "\n",
       "    .dataframe tbody tr th {\n",
       "        vertical-align: top;\n",
       "    }\n",
       "\n",
       "    .dataframe thead th {\n",
       "        text-align: right;\n",
       "    }\n",
       "</style>\n",
       "<table border=\"1\" class=\"dataframe\">\n",
       "  <thead>\n",
       "    <tr style=\"text-align: right;\">\n",
       "      <th></th>\n",
       "      <th>word</th>\n",
       "      <th>count</th>\n",
       "    </tr>\n",
       "  </thead>\n",
       "  <tbody>\n",
       "    <tr>\n",
       "      <th>0</th>\n",
       "      <td>обучение</td>\n",
       "      <td>4</td>\n",
       "    </tr>\n",
       "    <tr>\n",
       "      <th>1</th>\n",
       "      <td>части</td>\n",
       "      <td>3</td>\n",
       "    </tr>\n",
       "    <tr>\n",
       "      <th>2</th>\n",
       "      <td>Learning</td>\n",
       "      <td>3</td>\n",
       "    </tr>\n",
       "    <tr>\n",
       "      <th>3</th>\n",
       "      <td>нейронных</td>\n",
       "      <td>3</td>\n",
       "    </tr>\n",
       "    <tr>\n",
       "      <th>4</th>\n",
       "      <td>первой</td>\n",
       "      <td>2</td>\n",
       "    </tr>\n",
       "    <tr>\n",
       "      <th>5</th>\n",
       "      <td>интенсива</td>\n",
       "      <td>2</td>\n",
       "    </tr>\n",
       "    <tr>\n",
       "      <th>6</th>\n",
       "      <td>learning,</td>\n",
       "      <td>2</td>\n",
       "    </tr>\n",
       "    <tr>\n",
       "      <th>7</th>\n",
       "      <td>алгоритмов:</td>\n",
       "      <td>2</td>\n",
       "    </tr>\n",
       "    <tr>\n",
       "      <th>8</th>\n",
       "      <td>проведем</td>\n",
       "      <td>2</td>\n",
       "    </tr>\n",
       "    <tr>\n",
       "      <th>9</th>\n",
       "      <td>облачных</td>\n",
       "      <td>2</td>\n",
       "    </tr>\n",
       "    <tr>\n",
       "      <th>10</th>\n",
       "      <td>платформ.</td>\n",
       "      <td>2</td>\n",
       "    </tr>\n",
       "    <tr>\n",
       "      <th>11</th>\n",
       "      <td>###</td>\n",
       "      <td>2</td>\n",
       "    </tr>\n",
       "    <tr>\n",
       "      <th>12</th>\n",
       "      <td>Azure</td>\n",
       "      <td>2</td>\n",
       "    </tr>\n",
       "    <tr>\n",
       "      <th>13</th>\n",
       "      <td>или</td>\n",
       "      <td>2</td>\n",
       "    </tr>\n",
       "    <tr>\n",
       "      <th>14</th>\n",
       "      <td>том</td>\n",
       "      <td>2</td>\n",
       "    </tr>\n",
       "    <tr>\n",
       "      <th>15</th>\n",
       "      <td>числе</td>\n",
       "      <td>2</td>\n",
       "    </tr>\n",
       "    <tr>\n",
       "      <th>16</th>\n",
       "      <td>типовые</td>\n",
       "      <td>2</td>\n",
       "    </tr>\n",
       "    <tr>\n",
       "      <th>17</th>\n",
       "      <td>успешного</td>\n",
       "      <td>2</td>\n",
       "    </tr>\n",
       "    <tr>\n",
       "      <th>18</th>\n",
       "      <td>обучения</td>\n",
       "      <td>2</td>\n",
       "    </tr>\n",
       "    <tr>\n",
       "      <th>19</th>\n",
       "      <td>конце</td>\n",
       "      <td>2</td>\n",
       "    </tr>\n",
       "    <tr>\n",
       "      <th>20</th>\n",
       "      <td>практикум</td>\n",
       "      <td>2</td>\n",
       "    </tr>\n",
       "    <tr>\n",
       "      <th>21</th>\n",
       "      <td>обучению</td>\n",
       "      <td>2</td>\n",
       "    </tr>\n",
       "    <tr>\n",
       "      <th>22</th>\n",
       "      <td>Материалы:</td>\n",
       "      <td>2</td>\n",
       "    </tr>\n",
       "    <tr>\n",
       "      <th>23</th>\n",
       "      <td>Microsoft</td>\n",
       "      <td>2</td>\n",
       "    </tr>\n",
       "    <tr>\n",
       "      <th>24</th>\n",
       "      <td>[Azure</td>\n",
       "      <td>2</td>\n",
       "    </tr>\n",
       "  </tbody>\n",
       "</table>\n",
       "</div>"
      ],
      "text/plain": [
       "           word  count\n",
       "0      обучение      4\n",
       "1         части      3\n",
       "2      Learning      3\n",
       "3     нейронных      3\n",
       "4        первой      2\n",
       "5     интенсива      2\n",
       "6     learning,      2\n",
       "7   алгоритмов:      2\n",
       "8      проведем      2\n",
       "9      облачных      2\n",
       "10    платформ.      2\n",
       "11          ###      2\n",
       "12        Azure      2\n",
       "13          или      2\n",
       "14          том      2\n",
       "15        числе      2\n",
       "16      типовые      2\n",
       "17    успешного      2\n",
       "18     обучения      2\n",
       "19        конце      2\n",
       "20    практикум      2\n",
       "21     обучению      2\n",
       "22   Материалы:      2\n",
       "23    Microsoft      2\n",
       "24       [Azure      2"
      ]
     },
     "execution_count": 10,
     "metadata": {},
     "output_type": "execute_result"
    }
   ],
   "source": [
    "word_counts_dt = session.sql('SELECT word, count FROM word_count WHERE length(word) > 2 and count > 1')\n",
    "word_counts_dt.toPandas()"
   ]
  },
  {
   "cell_type": "code",
   "execution_count": null,
   "metadata": {},
   "outputs": [],
   "source": []
  }
 ],
 "metadata": {
  "kernelspec": {
   "display_name": "Python 3.7 - Spark (local)",
   "language": "python",
   "name": "spark-3-python"
  },
  "language_info": {
   "codemirror_mode": {
    "name": "ipython",
    "version": 3
   },
   "file_extension": ".py",
   "mimetype": "text/x-python",
   "name": "python",
   "nbconvert_exporter": "python",
   "pygments_lexer": "ipython3",
   "version": "3.7.6"
  }
 },
 "nbformat": 4,
 "nbformat_minor": 4
}
